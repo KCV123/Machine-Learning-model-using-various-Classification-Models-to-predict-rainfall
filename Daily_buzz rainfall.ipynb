{
  "cells": [
    {
      "cell_type": "markdown",
      "id": "67933441-954f-41fd-9e6c-1e7b61e27b49",
      "metadata": {
        "id": "67933441-954f-41fd-9e6c-1e7b61e27b49"
      },
      "source": [
        "# Predicting rainfall for \"The Daily Buzz\" newspaper in Sydney"
      ]
    },
    {
      "cell_type": "markdown",
      "id": "8810734d-23c0-42d2-8c03-4c230bb276ad",
      "metadata": {
        "id": "8810734d-23c0-42d2-8c03-4c230bb276ad"
      },
      "source": [
        "## Objective\n",
        "\n",
        "The objective of this project is to create a machine learning model using various classification techniques, including decision trees and ensemble methods, to accurately predict rainfall in Sydney. The project involves data preprocessing, model training, evaluation, and comparison to determine the best performing model and suggest ways to further improve its accuracy."
      ]
    },
    {
      "cell_type": "markdown",
      "source": [
        " 1. Your views about the problem statement?\n",
        "\n",
        "The problem statement though is nowhere mentioned in the provided notebook. Nevertheless, by skimming through the context and code, it looks like this should be a binary classification task where data is classified into two classes: label 0 and label 1. Hence, the usual steps will be data preprocessing, feature scaling, model training, and finally the model evaluation."
      ],
      "metadata": {
        "id": "DA1BGUcr9wIh"
      },
      "id": "DA1BGUcr9wIh"
    },
    {
      "cell_type": "markdown",
      "source": [
        "2. What will be your approach to solving this task?\n",
        "\n",
        "To solve this binary classification problem, the approach would be:\n",
        "\n",
        "Data Preprocessing: Cleaning data, handling missing values, encoding categorical features, scaling numerical features.\n",
        "\n",
        "Model Selection: A variety of appropriate Machine Learning models for classification problems would be chosen.\n",
        "\n",
        "Training and Validation: Training is done with the chosen models on the dataset provided for training and then validated by cross-validation.\n",
        "\n",
        "Evaluation of Models: The trained models would be assessed using accuracy, precision, recall, F1-scores, and a confusion matrix.\n",
        "\n",
        "Model Tuning: The models would have their parameters tuned to optimize performance.\n",
        "\n",
        "Final Model Selection: Select the best model with respect to the evaluation metrics\n",
        "\n",
        "Testing: Use Test set to evaluate how good the final model will be on data that it wasn't trained on.\n",
        "\n"
      ],
      "metadata": {
        "id": "YHOewqM0Kr-o"
      },
      "id": "YHOewqM0Kr-o"
    },
    {
      "cell_type": "markdown",
      "source": [
        "3. What were the available ML model options you had to perform thi tsask?\n",
        "\n",
        "The available ML model options mentioned in my notebook include:\n",
        "\n",
        "Logistic Regression\n",
        "\n",
        "K-Nearest Neighbors (KNN)\n",
        "\n",
        "Support Vector Machine (SVM)\n",
        "\n",
        "Decision Tree Classifier\n",
        "\n",
        "Random Forest Classifier\n",
        "\n",
        "AdaBoost Classifier"
      ],
      "metadata": {
        "id": "6K3eDlH2K58T"
      },
      "id": "6K3eDlH2K58T"
    },
    {
      "cell_type": "markdown",
      "source": [
        "4. Which model’s performance is best and what could be the possible reason for that?\n",
        "\n",
        "Based on the outputs from the notebook:\n",
        "\n",
        "Random Forest Classifier: Accuracy of 0.82 and other precision and recall results are comparatively better than others.\n",
        "\n",
        "AdaBoost Classifier: It doesn't give the exact performance measures, but generally speaking, AdaBoost works well with a base estimator like Decision Trees.\n",
        "\n",
        "The best model was the Random Forest classifier with an accuracy of 0.82. Possible reasons may be due to\n",
        "\n",
        "(1)Ensemble Method: Random Forest is an ensemble technique; it combines the results of different decision trees, hence ensuring better generalization.\n",
        "\n",
        "(2)Handling Overfitting: It would handle overfitting simply by averaging multiple trees.\n",
        "\n",
        "(3)Feature Importance: Random Forest can handle feature importance on its own and should end up improving model performance."
      ],
      "metadata": {
        "id": "NDsDeUXvKr6H"
      },
      "id": "NDsDeUXvKr6H"
    },
    {
      "cell_type": "markdown",
      "source": [
        "5. What steps can you take to improve this selected model’s performance even further?\n",
        "\n",
        "To improve the performance of the Random Forest Classifier further, you can consider the following steps:\n",
        "\n",
        "(1)Hyperparameter Tuning: Perform grid search or random search for hyperparameter tuning (e.g., number of trees, depth of trees, maximum features).\n",
        "\n",
        "(2)Feature Engineering: Create new features or modify existing ones to provide more informative inputs to the model.\n",
        "\n",
        "(3)Cross-Validation: Use k-fold cross-validation to ensure the model generalizes well to unseen data.\n",
        "\n",
        "(4)nsemble Methods: Combine Random Forest with other ensemble methods like Gradient Boosting or XGBoost.\n",
        "\n",
        "(5)Handling Class Imbalance: If there is class imbalance, techniques like SMOTE or class weighting can be applied to balance the classes.\n",
        "\n",
        "(6)More Data: Collect more data to provide the model with more examples to learn from.\n",
        "\n",
        "(7)Advanced Techniques: Explore advanced techniques like stacking or blending with other models."
      ],
      "metadata": {
        "id": "Ao8slwacL7Oh"
      },
      "id": "Ao8slwacL7Oh"
    },
    {
      "cell_type": "markdown",
      "id": "3ebe06e4-ca37-425c-83af-d20bdfa42219",
      "metadata": {
        "id": "3ebe06e4-ca37-425c-83af-d20bdfa42219"
      },
      "source": [
        "### Importing Libraries and Loading the data"
      ]
    },
    {
      "cell_type": "code",
      "execution_count": null,
      "id": "7d450e60-df5a-404b-8576-9fdb9de293fa",
      "metadata": {
        "id": "7d450e60-df5a-404b-8576-9fdb9de293fa"
      },
      "outputs": [],
      "source": [
        "import pandas as pd\n",
        "import numpy as np\n",
        "\n",
        "import matplotlib.pyplot as plt\n",
        "import seaborn as sns"
      ]
    },
    {
      "cell_type": "code",
      "execution_count": null,
      "id": "c3b7cea9-37e1-42f3-93f5-14c2b7170ecc",
      "metadata": {
        "id": "c3b7cea9-37e1-42f3-93f5-14c2b7170ecc",
        "outputId": "60e29853-5e47-4af6-fdd9-50fca4268aed"
      },
      "outputs": [
        {
          "data": {
            "text/html": [
              "<div>\n",
              "<style scoped>\n",
              "    .dataframe tbody tr th:only-of-type {\n",
              "        vertical-align: middle;\n",
              "    }\n",
              "\n",
              "    .dataframe tbody tr th {\n",
              "        vertical-align: top;\n",
              "    }\n",
              "\n",
              "    .dataframe thead th {\n",
              "        text-align: right;\n",
              "    }\n",
              "</style>\n",
              "<table border=\"1\" class=\"dataframe\">\n",
              "  <thead>\n",
              "    <tr style=\"text-align: right;\">\n",
              "      <th></th>\n",
              "      <th>Date</th>\n",
              "      <th>Location</th>\n",
              "      <th>MinTemp</th>\n",
              "      <th>MaxTemp</th>\n",
              "      <th>Rainfall</th>\n",
              "      <th>Evaporation</th>\n",
              "      <th>Sunshine</th>\n",
              "      <th>Humidity9am</th>\n",
              "      <th>Humidity3pm</th>\n",
              "      <th>Pressure9am</th>\n",
              "      <th>Pressure3pm</th>\n",
              "      <th>Cloud9am</th>\n",
              "      <th>Cloud3pm</th>\n",
              "      <th>Temp9am</th>\n",
              "      <th>Temp3pm</th>\n",
              "      <th>RainToday</th>\n",
              "      <th>RainTomorrow</th>\n",
              "    </tr>\n",
              "  </thead>\n",
              "  <tbody>\n",
              "    <tr>\n",
              "      <th>0</th>\n",
              "      <td>2008-02-01</td>\n",
              "      <td>Sydney</td>\n",
              "      <td>19.5</td>\n",
              "      <td>22.4</td>\n",
              "      <td>15.6</td>\n",
              "      <td>6.2</td>\n",
              "      <td>0.0</td>\n",
              "      <td>92.0</td>\n",
              "      <td>84.0</td>\n",
              "      <td>1017.6</td>\n",
              "      <td>1017.4</td>\n",
              "      <td>8.0</td>\n",
              "      <td>8.0</td>\n",
              "      <td>20.7</td>\n",
              "      <td>20.9</td>\n",
              "      <td>Yes</td>\n",
              "      <td>Yes</td>\n",
              "    </tr>\n",
              "    <tr>\n",
              "      <th>1</th>\n",
              "      <td>2008-02-02</td>\n",
              "      <td>Sydney</td>\n",
              "      <td>19.5</td>\n",
              "      <td>25.6</td>\n",
              "      <td>6.0</td>\n",
              "      <td>3.4</td>\n",
              "      <td>2.7</td>\n",
              "      <td>83.0</td>\n",
              "      <td>73.0</td>\n",
              "      <td>1017.9</td>\n",
              "      <td>1016.4</td>\n",
              "      <td>7.0</td>\n",
              "      <td>7.0</td>\n",
              "      <td>22.4</td>\n",
              "      <td>24.8</td>\n",
              "      <td>Yes</td>\n",
              "      <td>Yes</td>\n",
              "    </tr>\n",
              "    <tr>\n",
              "      <th>2</th>\n",
              "      <td>2008-02-03</td>\n",
              "      <td>Sydney</td>\n",
              "      <td>21.6</td>\n",
              "      <td>24.5</td>\n",
              "      <td>6.6</td>\n",
              "      <td>2.4</td>\n",
              "      <td>0.1</td>\n",
              "      <td>88.0</td>\n",
              "      <td>86.0</td>\n",
              "      <td>1016.7</td>\n",
              "      <td>1015.6</td>\n",
              "      <td>7.0</td>\n",
              "      <td>8.0</td>\n",
              "      <td>23.5</td>\n",
              "      <td>23.0</td>\n",
              "      <td>Yes</td>\n",
              "      <td>Yes</td>\n",
              "    </tr>\n",
              "    <tr>\n",
              "      <th>3</th>\n",
              "      <td>2008-02-04</td>\n",
              "      <td>Sydney</td>\n",
              "      <td>20.2</td>\n",
              "      <td>22.8</td>\n",
              "      <td>18.8</td>\n",
              "      <td>2.2</td>\n",
              "      <td>0.0</td>\n",
              "      <td>83.0</td>\n",
              "      <td>90.0</td>\n",
              "      <td>1014.2</td>\n",
              "      <td>1011.8</td>\n",
              "      <td>8.0</td>\n",
              "      <td>8.0</td>\n",
              "      <td>21.4</td>\n",
              "      <td>20.9</td>\n",
              "      <td>Yes</td>\n",
              "      <td>Yes</td>\n",
              "    </tr>\n",
              "    <tr>\n",
              "      <th>4</th>\n",
              "      <td>2008-02-05</td>\n",
              "      <td>Sydney</td>\n",
              "      <td>19.7</td>\n",
              "      <td>25.7</td>\n",
              "      <td>77.4</td>\n",
              "      <td>NaN</td>\n",
              "      <td>0.0</td>\n",
              "      <td>88.0</td>\n",
              "      <td>74.0</td>\n",
              "      <td>1008.3</td>\n",
              "      <td>1004.8</td>\n",
              "      <td>8.0</td>\n",
              "      <td>8.0</td>\n",
              "      <td>22.5</td>\n",
              "      <td>25.5</td>\n",
              "      <td>Yes</td>\n",
              "      <td>Yes</td>\n",
              "    </tr>\n",
              "  </tbody>\n",
              "</table>\n",
              "</div>"
            ],
            "text/plain": [
              "        Date Location  MinTemp  MaxTemp  Rainfall  Evaporation  Sunshine  \\\n",
              "0 2008-02-01   Sydney     19.5     22.4      15.6          6.2       0.0   \n",
              "1 2008-02-02   Sydney     19.5     25.6       6.0          3.4       2.7   \n",
              "2 2008-02-03   Sydney     21.6     24.5       6.6          2.4       0.1   \n",
              "3 2008-02-04   Sydney     20.2     22.8      18.8          2.2       0.0   \n",
              "4 2008-02-05   Sydney     19.7     25.7      77.4          NaN       0.0   \n",
              "\n",
              "   Humidity9am  Humidity3pm  Pressure9am  Pressure3pm  Cloud9am  Cloud3pm  \\\n",
              "0         92.0         84.0       1017.6       1017.4       8.0       8.0   \n",
              "1         83.0         73.0       1017.9       1016.4       7.0       7.0   \n",
              "2         88.0         86.0       1016.7       1015.6       7.0       8.0   \n",
              "3         83.0         90.0       1014.2       1011.8       8.0       8.0   \n",
              "4         88.0         74.0       1008.3       1004.8       8.0       8.0   \n",
              "\n",
              "   Temp9am  Temp3pm RainToday RainTomorrow  \n",
              "0     20.7     20.9       Yes          Yes  \n",
              "1     22.4     24.8       Yes          Yes  \n",
              "2     23.5     23.0       Yes          Yes  \n",
              "3     21.4     20.9       Yes          Yes  \n",
              "4     22.5     25.5       Yes          Yes  "
            ]
          },
          "execution_count": 4,
          "metadata": {},
          "output_type": "execute_result"
        }
      ],
      "source": [
        "df = pd.read_excel(\"sydney_rain_prediction.xlsx\")\n",
        "df.head()"
      ]
    },
    {
      "cell_type": "code",
      "execution_count": null,
      "id": "fc4f9935-941c-4213-bdb9-40e5755bab3d",
      "metadata": {
        "id": "fc4f9935-941c-4213-bdb9-40e5755bab3d",
        "outputId": "ff7660da-c931-4bb8-fd73-40843bd37cc0"
      },
      "outputs": [
        {
          "name": "stdout",
          "output_type": "stream",
          "text": [
            "['Date', 'Location', 'MinTemp', 'MaxTemp', 'Rainfall', 'Evaporation', 'Sunshine', 'Humidity9am', 'Humidity3pm', 'Pressure9am', 'Pressure3pm', 'Cloud9am', 'Cloud3pm', 'Temp9am', 'Temp3pm', 'RainToday', 'RainTomorrow']\n"
          ]
        }
      ],
      "source": [
        "# Columns present in the data\n",
        "columns = []\n",
        "[columns.append(i) for i in df.columns]\n",
        "print(columns)"
      ]
    },
    {
      "cell_type": "markdown",
      "id": "519efec2-6b16-406b-b826-81be45543cfb",
      "metadata": {
        "id": "519efec2-6b16-406b-b826-81be45543cfb"
      },
      "source": [
        "## Data Exploration"
      ]
    },
    {
      "cell_type": "code",
      "execution_count": null,
      "id": "e50c65a0-79b4-4689-83c4-6dbab2ccf945",
      "metadata": {
        "id": "e50c65a0-79b4-4689-83c4-6dbab2ccf945",
        "outputId": "8fb84474-3393-4e81-b533-bfe2eeb23f27"
      },
      "outputs": [
        {
          "data": {
            "text/plain": [
              "(3337, 17)"
            ]
          },
          "execution_count": 6,
          "metadata": {},
          "output_type": "execute_result"
        }
      ],
      "source": [
        "df.shape"
      ]
    },
    {
      "cell_type": "code",
      "execution_count": null,
      "id": "b4d63bcf-0bbc-4d23-975a-ccde62804e68",
      "metadata": {
        "id": "b4d63bcf-0bbc-4d23-975a-ccde62804e68",
        "outputId": "fb9c3081-999b-4380-c9e6-8f54ce6538ba"
      },
      "outputs": [
        {
          "name": "stdout",
          "output_type": "stream",
          "text": [
            "<class 'pandas.core.frame.DataFrame'>\n",
            "RangeIndex: 3337 entries, 0 to 3336\n",
            "Data columns (total 17 columns):\n",
            " #   Column        Non-Null Count  Dtype         \n",
            "---  ------        --------------  -----         \n",
            " 0   Date          3337 non-null   datetime64[ns]\n",
            " 1   Location      3337 non-null   object        \n",
            " 2   MinTemp       3334 non-null   float64       \n",
            " 3   MaxTemp       3335 non-null   float64       \n",
            " 4   Rainfall      3331 non-null   float64       \n",
            " 5   Evaporation   3286 non-null   float64       \n",
            " 6   Sunshine      3321 non-null   float64       \n",
            " 7   Humidity9am   3323 non-null   float64       \n",
            " 8   Humidity3pm   3324 non-null   float64       \n",
            " 9   Pressure9am   3317 non-null   float64       \n",
            " 10  Pressure3pm   3318 non-null   float64       \n",
            " 11  Cloud9am      2771 non-null   float64       \n",
            " 12  Cloud3pm      2776 non-null   float64       \n",
            " 13  Temp9am       3333 non-null   float64       \n",
            " 14  Temp3pm       3333 non-null   float64       \n",
            " 15  RainToday     3331 non-null   object        \n",
            " 16  RainTomorrow  3337 non-null   object        \n",
            "dtypes: datetime64[ns](1), float64(13), object(3)\n",
            "memory usage: 443.3+ KB\n"
          ]
        }
      ],
      "source": [
        "df.info()"
      ]
    },
    {
      "cell_type": "code",
      "execution_count": null,
      "id": "41ffeeaf-8400-4f9a-8b14-0fddeb8594f4",
      "metadata": {
        "id": "41ffeeaf-8400-4f9a-8b14-0fddeb8594f4",
        "outputId": "dac29945-0711-40b1-8f54-1ffb3b7cbe36"
      },
      "outputs": [
        {
          "name": "stdout",
          "output_type": "stream",
          "text": [
            "Numerical Columns: ['MinTemp', 'MaxTemp', 'Rainfall', 'Evaporation', 'Sunshine', 'Humidity9am', 'Humidity3pm', 'Pressure9am', 'Pressure3pm', 'Cloud9am', 'Cloud3pm', 'Temp9am', 'Temp3pm']\n",
            "Categorical Columns: ['Date', 'Location', 'RainToday', 'RainTomorrow']\n"
          ]
        }
      ],
      "source": [
        "# Identify numerical and categorical columns\n",
        "numerical_columns = df.select_dtypes(include=[np.number]).columns.tolist()\n",
        "categorical_columns = df.select_dtypes(exclude=[np.number]).columns.tolist()\n",
        "\n",
        "# Print the identified columns\n",
        "print(\"Numerical Columns:\", numerical_columns)\n",
        "print(\"Categorical Columns:\", categorical_columns)"
      ]
    },
    {
      "cell_type": "code",
      "execution_count": null,
      "id": "aa161a7a-592c-4124-a699-b06b84fb67a8",
      "metadata": {
        "id": "aa161a7a-592c-4124-a699-b06b84fb67a8",
        "outputId": "f4e2fcfa-cda8-4fef-bcbc-7514210ba34e"
      },
      "outputs": [
        {
          "name": "stdout",
          "output_type": "stream",
          "text": [
            "Unique values in 'Date':\n",
            "<DatetimeArray>\n",
            "['2008-02-01 00:00:00', '2008-02-02 00:00:00', '2008-02-03 00:00:00',\n",
            " '2008-02-04 00:00:00', '2008-02-05 00:00:00', '2008-02-06 00:00:00',\n",
            " '2008-02-07 00:00:00', '2008-02-08 00:00:00', '2008-02-09 00:00:00',\n",
            " '2008-02-10 00:00:00',\n",
            " ...\n",
            " '2017-06-16 00:00:00', '2017-06-17 00:00:00', '2017-06-18 00:00:00',\n",
            " '2017-06-19 00:00:00', '2017-06-20 00:00:00', '2017-06-21 00:00:00',\n",
            " '2017-06-22 00:00:00', '2017-06-23 00:00:00', '2017-06-24 00:00:00',\n",
            " '2017-06-25 00:00:00']\n",
            "Length: 3337, dtype: datetime64[ns]\n",
            "\n",
            "\n",
            "Unique values in 'Location':\n",
            "['Sydney']\n",
            "\n",
            "\n",
            "Unique values in 'RainToday':\n",
            "['Yes' 'No' nan]\n",
            "\n",
            "\n",
            "Unique values in 'RainTomorrow':\n",
            "['Yes' 'No']\n",
            "\n",
            "\n"
          ]
        }
      ],
      "source": [
        "# iterate over the columns and print the unique values.\n",
        "for column in df[categorical_columns].columns:\n",
        "    print(f\"Unique values in '{column}':\")\n",
        "    print(df[column].unique())\n",
        "    print(\"\\n\")"
      ]
    },
    {
      "cell_type": "code",
      "execution_count": null,
      "id": "e56828f9-50a8-46b9-bf0b-4848443608b3",
      "metadata": {
        "id": "e56828f9-50a8-46b9-bf0b-4848443608b3",
        "outputId": "86ec59ea-dade-444d-916d-cddc3eff338e"
      },
      "outputs": [
        {
          "data": {
            "text/plain": [
              "Date              0\n",
              "Location          0\n",
              "MinTemp           3\n",
              "MaxTemp           2\n",
              "Rainfall          6\n",
              "Evaporation      51\n",
              "Sunshine         16\n",
              "Humidity9am      14\n",
              "Humidity3pm      13\n",
              "Pressure9am      20\n",
              "Pressure3pm      19\n",
              "Cloud9am        566\n",
              "Cloud3pm        561\n",
              "Temp9am           4\n",
              "Temp3pm           4\n",
              "RainToday         6\n",
              "RainTomorrow      0\n",
              "dtype: int64"
            ]
          },
          "execution_count": 10,
          "metadata": {},
          "output_type": "execute_result"
        }
      ],
      "source": [
        "## Checking for missing values\n",
        "df.isnull().sum()"
      ]
    },
    {
      "cell_type": "markdown",
      "id": "647d0456-8df6-4206-8844-c07878eb6a0f",
      "metadata": {
        "id": "647d0456-8df6-4206-8844-c07878eb6a0f"
      },
      "source": [
        "## Data CLeaning"
      ]
    },
    {
      "cell_type": "code",
      "execution_count": null,
      "id": "6fb4935e-d2c9-4a7e-9641-6c5fade279c5",
      "metadata": {
        "id": "6fb4935e-d2c9-4a7e-9641-6c5fade279c5"
      },
      "outputs": [],
      "source": [
        "df.drop({'Location', 'Date'}, axis = 1, inplace = True) # The location is Sydney for all the observations"
      ]
    },
    {
      "cell_type": "code",
      "execution_count": null,
      "id": "1caa4459-7671-4147-9590-20cd82419ffe",
      "metadata": {
        "id": "1caa4459-7671-4147-9590-20cd82419ffe",
        "outputId": "89910503-b89d-4d4f-f7be-8da662cc6278"
      },
      "outputs": [
        {
          "name": "stdout",
          "output_type": "stream",
          "text": [
            "Numerical Columns: ['MinTemp', 'MaxTemp', 'Rainfall', 'Evaporation', 'Sunshine', 'Humidity9am', 'Humidity3pm', 'Pressure9am', 'Pressure3pm', 'Cloud9am', 'Cloud3pm', 'Temp9am', 'Temp3pm']\n",
            "Categorical Columns: ['RainToday', 'RainTomorrow']\n"
          ]
        }
      ],
      "source": [
        "# Identify numerical and categorical columns\n",
        "numerical_columns = df.select_dtypes(include=[np.number]).columns.tolist()\n",
        "categorical_columns = df.select_dtypes(exclude=[np.number]).columns.tolist()\n",
        "\n",
        "# Print the identified columns\n",
        "print(\"Numerical Columns:\", numerical_columns)\n",
        "print(\"Categorical Columns:\", categorical_columns)"
      ]
    },
    {
      "cell_type": "markdown",
      "id": "78704183-3677-42c9-9066-9ef155107e99",
      "metadata": {
        "id": "78704183-3677-42c9-9066-9ef155107e99"
      },
      "source": [
        "### Missing Values"
      ]
    },
    {
      "cell_type": "code",
      "execution_count": null,
      "id": "d8f33503-1d0d-42a4-81d7-408b214aec9f",
      "metadata": {
        "id": "d8f33503-1d0d-42a4-81d7-408b214aec9f",
        "outputId": "7e6840d5-f9da-4b04-8d2e-956a307c30f9"
      },
      "outputs": [
        {
          "data": {
            "text/plain": [
              "MinTemp          3\n",
              "MaxTemp          2\n",
              "Rainfall         6\n",
              "Evaporation     51\n",
              "Sunshine        16\n",
              "Humidity9am     14\n",
              "Humidity3pm     13\n",
              "Pressure9am     20\n",
              "Pressure3pm     19\n",
              "Cloud9am       566\n",
              "Cloud3pm       561\n",
              "Temp9am          4\n",
              "Temp3pm          4\n",
              "dtype: int64"
            ]
          },
          "execution_count": 13,
          "metadata": {},
          "output_type": "execute_result"
        }
      ],
      "source": [
        "df[numerical_columns].isnull().sum()"
      ]
    },
    {
      "cell_type": "markdown",
      "id": "8e056159-8cc9-4a81-87d2-0f47cce8f62e",
      "metadata": {
        "id": "8e056159-8cc9-4a81-87d2-0f47cce8f62e"
      },
      "source": [
        "#### Replacing Missing values of numerical columns with Mean"
      ]
    },
    {
      "cell_type": "code",
      "execution_count": null,
      "id": "daa64d1f-ca5a-466b-9e90-c9661545c290",
      "metadata": {
        "id": "daa64d1f-ca5a-466b-9e90-c9661545c290"
      },
      "outputs": [],
      "source": [
        "mean_values = {col:df[col].mean() for col in numerical_columns}\n",
        "df[numerical_columns] = df[numerical_columns].apply(lambda col: col.fillna(col.mean()))"
      ]
    },
    {
      "cell_type": "code",
      "execution_count": null,
      "id": "c5db5110-f9b1-4485-be77-f40dc6efaceb",
      "metadata": {
        "id": "c5db5110-f9b1-4485-be77-f40dc6efaceb",
        "outputId": "7398a2b5-2b44-4d39-8398-be2050fd654a"
      },
      "outputs": [
        {
          "data": {
            "text/plain": [
              "MinTemp        0\n",
              "MaxTemp        0\n",
              "Rainfall       0\n",
              "Evaporation    0\n",
              "Sunshine       0\n",
              "Humidity9am    0\n",
              "Humidity3pm    0\n",
              "Pressure9am    0\n",
              "Pressure3pm    0\n",
              "Cloud9am       0\n",
              "Cloud3pm       0\n",
              "Temp9am        0\n",
              "Temp3pm        0\n",
              "dtype: int64"
            ]
          },
          "execution_count": 15,
          "metadata": {},
          "output_type": "execute_result"
        }
      ],
      "source": [
        "df[numerical_columns].isnull().sum()"
      ]
    },
    {
      "cell_type": "markdown",
      "id": "80fe08c6-9420-48fb-9848-e21393eb6d11",
      "metadata": {
        "id": "80fe08c6-9420-48fb-9848-e21393eb6d11"
      },
      "source": [
        "#### Replacing Missing values of categorical columns with Mode"
      ]
    },
    {
      "cell_type": "code",
      "execution_count": null,
      "id": "72d6e716-e244-46d4-a50f-1cdfeb5f7f60",
      "metadata": {
        "id": "72d6e716-e244-46d4-a50f-1cdfeb5f7f60",
        "outputId": "79f521ff-8205-4a61-9aad-735e5f793f18"
      },
      "outputs": [
        {
          "data": {
            "text/plain": [
              "RainToday       6\n",
              "RainTomorrow    0\n",
              "dtype: int64"
            ]
          },
          "execution_count": 16,
          "metadata": {},
          "output_type": "execute_result"
        }
      ],
      "source": [
        "df[categorical_columns].isnull().sum()"
      ]
    },
    {
      "cell_type": "code",
      "execution_count": null,
      "id": "0d861989-e1f5-4fd6-b3dc-ddc73ae0d865",
      "metadata": {
        "id": "0d861989-e1f5-4fd6-b3dc-ddc73ae0d865"
      },
      "outputs": [],
      "source": [
        "mode_values = {col: df[col].mode()[0] for col in categorical_columns}\n",
        "df[categorical_columns] = df[categorical_columns].apply(lambda col: col.fillna(col.mode()[0]))"
      ]
    },
    {
      "cell_type": "code",
      "execution_count": null,
      "id": "a02094b8-0287-4413-bda9-1c391afe2ec0",
      "metadata": {
        "id": "a02094b8-0287-4413-bda9-1c391afe2ec0",
        "outputId": "02bcd324-a94f-422c-f811-25963529a6b8"
      },
      "outputs": [
        {
          "data": {
            "text/plain": [
              "RainToday       0\n",
              "RainTomorrow    0\n",
              "dtype: int64"
            ]
          },
          "execution_count": 18,
          "metadata": {},
          "output_type": "execute_result"
        }
      ],
      "source": [
        "df[categorical_columns].isnull().sum()"
      ]
    },
    {
      "cell_type": "markdown",
      "id": "f380cda5-7a4e-4217-b3e4-5f8c3f5964ca",
      "metadata": {
        "id": "f380cda5-7a4e-4217-b3e4-5f8c3f5964ca"
      },
      "source": [
        "### Outlier Analysis"
      ]
    },
    {
      "cell_type": "code",
      "execution_count": null,
      "id": "5502ece4-3203-4919-9080-c3e6abda6eb3",
      "metadata": {
        "id": "5502ece4-3203-4919-9080-c3e6abda6eb3",
        "outputId": "41851695-38a3-4fd9-bb3e-12a3811c1c17"
      },
      "outputs": [
        {
          "data": {
            "image/png": "[encoded data removed]",
            "text/plain": [
              "<Figure size 640x480 with 1 Axes>"
            ]
          },
          "metadata": {},
          "output_type": "display_data"
        },
        {
          "data": {
            "image/png": "[encoded data removed]",
            "text/plain": [
              "<Figure size 640x480 with 1 Axes>"
            ]
          },
          "metadata": {},
          "output_type": "display_data"
        },
        {
          "data": {
            "image/png": "[encoded data removed]",
            "text/plain": [
              "<Figure size 640x480 with 1 Axes>"
            ]
          },
          "metadata": {},
          "output_type": "display_data"
        },
        {
          "data": {
            "image/png": "[encoded data removed]",
            "text/plain": [
              "<Figure size 640x480 with 1 Axes>"
            ]
          },
          "metadata": {},
          "output_type": "display_data"
        },
        {
          "data": {
            "image/png": "[encoded data removed]",
            "text/plain": [
              "<Figure size 640x480 with 1 Axes>"
            ]
          },
          "metadata": {},
          "output_type": "display_data"
        },
        {
          "data": {
            "image/png": "[encoded data removed]",
            "text/plain": [
              "<Figure size 640x480 with 1 Axes>"
            ]
          },
          "metadata": {},
          "output_type": "display_data"
        },
        {
          "data": {
            "image/png": "[encoded data removed]",
            "text/plain": [
              "<Figure size 640x480 with 1 Axes>"
            ]
          },
          "metadata": {},
          "output_type": "display_data"
        },
        {
          "data": {
            "image/png": "[encoded data removed]",
            "text/plain": [
              "<Figure size 640x480 with 1 Axes>"
            ]
          },
          "metadata": {},
          "output_type": "display_data"
        },
        {
          "data": {
            "image/png": "[encoded data removed]",
            "text/plain": [
              "<Figure size 640x480 with 1 Axes>"
            ]
          },
          "metadata": {},
          "output_type": "display_data"
        },
        {
          "data": {
            "image/png": "[encoded data removed]",
            "text/plain": [
              "<Figure size 640x480 with 1 Axes>"
            ]
          },
          "metadata": {},
          "output_type": "display_data"
        },
        {
          "data": {
            "image/png": "[encoded data removed]",
            "text/plain": [
              "<Figure size 640x480 with 1 Axes>"
            ]
          },
          "metadata": {},
          "output_type": "display_data"
        },
        {
          "data": {
            "image/png": "[encoded data removed]",
            "text/plain": [
              "<Figure size 640x480 with 1 Axes>"
            ]
          },
          "metadata": {},
          "output_type": "display_data"
        },
        {
          "data": {
            "image/png": "[encoded data removed]",
            "text/plain": [
              "<Figure size 640x480 with 1 Axes>"
            ]
          },
          "metadata": {},
          "output_type": "display_data"
        }
      ],
      "source": [
        "for col in df[numerical_columns]:\n",
        "    sns.boxplot(data = df, x = col)\n",
        "    plt.title(f\"Box plot of {col}\")\n",
        "    plt.show()"
      ]
    },
    {
      "cell_type": "markdown",
      "id": "7e28ca5c-69fc-4ee4-9bb3-4291c0bcbcf5",
      "metadata": {
        "id": "7e28ca5c-69fc-4ee4-9bb3-4291c0bcbcf5"
      },
      "source": [
        "### Label Encoding"
      ]
    },
    {
      "cell_type": "code",
      "execution_count": null,
      "id": "26a0c634-9862-48e3-a348-d0fac88c350a",
      "metadata": {
        "id": "26a0c634-9862-48e3-a348-d0fac88c350a",
        "outputId": "aef57b8a-7c3f-4498-93b7-6131a056c565"
      },
      "outputs": [
        {
          "data": {
            "text/plain": [
              "array(['Yes', 'No'], dtype=object)"
            ]
          },
          "execution_count": 20,
          "metadata": {},
          "output_type": "execute_result"
        }
      ],
      "source": [
        "df['RainToday'].unique()"
      ]
    },
    {
      "cell_type": "code",
      "execution_count": null,
      "id": "79227ec8-4a1b-4d14-8d65-62e2b4f235d4",
      "metadata": {
        "id": "79227ec8-4a1b-4d14-8d65-62e2b4f235d4",
        "outputId": "253a4ab7-ccdf-4a1c-829d-8ea90c6f5391"
      },
      "outputs": [
        {
          "data": {
            "text/plain": [
              "array(['Yes', 'No'], dtype=object)"
            ]
          },
          "execution_count": 21,
          "metadata": {},
          "output_type": "execute_result"
        }
      ],
      "source": [
        "df['RainTomorrow'].unique()"
      ]
    },
    {
      "cell_type": "code",
      "execution_count": null,
      "id": "530c4460-8e41-425c-8191-cac552bf5165",
      "metadata": {
        "id": "530c4460-8e41-425c-8191-cac552bf5165"
      },
      "outputs": [],
      "source": [
        "final_df = pd.get_dummies(df, columns=['RainToday', 'RainTomorrow'], drop_first=True)\n",
        "final_df = final_df.astype(int)"
      ]
    },
    {
      "cell_type": "code",
      "execution_count": null,
      "id": "ad2dabb1-b53b-4a9d-ac9f-55d2f53b4f95",
      "metadata": {
        "id": "ad2dabb1-b53b-4a9d-ac9f-55d2f53b4f95",
        "outputId": "04cf9bec-e4a7-4e54-f53b-2f906ba31b58"
      },
      "outputs": [
        {
          "name": "stdout",
          "output_type": "stream",
          "text": [
            "[1 0] [1 0]\n"
          ]
        }
      ],
      "source": [
        "print(final_df['RainToday_Yes'].unique(),\n",
        "     final_df['RainTomorrow_Yes'].unique())"
      ]
    },
    {
      "cell_type": "code",
      "execution_count": null,
      "id": "8c3a756d-7859-4039-8484-854439fb2049",
      "metadata": {
        "id": "8c3a756d-7859-4039-8484-854439fb2049",
        "outputId": "e502b703-f32f-461e-d7b7-acd929994235"
      },
      "outputs": [
        {
          "name": "stdout",
          "output_type": "stream",
          "text": [
            "<class 'pandas.core.frame.DataFrame'>\n",
            "RangeIndex: 3337 entries, 0 to 3336\n",
            "Data columns (total 15 columns):\n",
            " #   Column            Non-Null Count  Dtype\n",
            "---  ------            --------------  -----\n",
            " 0   MinTemp           3337 non-null   int32\n",
            " 1   MaxTemp           3337 non-null   int32\n",
            " 2   Rainfall          3337 non-null   int32\n",
            " 3   Evaporation       3337 non-null   int32\n",
            " 4   Sunshine          3337 non-null   int32\n",
            " 5   Humidity9am       3337 non-null   int32\n",
            " 6   Humidity3pm       3337 non-null   int32\n",
            " 7   Pressure9am       3337 non-null   int32\n",
            " 8   Pressure3pm       3337 non-null   int32\n",
            " 9   Cloud9am          3337 non-null   int32\n",
            " 10  Cloud3pm          3337 non-null   int32\n",
            " 11  Temp9am           3337 non-null   int32\n",
            " 12  Temp3pm           3337 non-null   int32\n",
            " 13  RainToday_Yes     3337 non-null   int32\n",
            " 14  RainTomorrow_Yes  3337 non-null   int32\n",
            "dtypes: int32(15)\n",
            "memory usage: 195.7 KB\n"
          ]
        }
      ],
      "source": [
        "final_df.info()"
      ]
    },
    {
      "cell_type": "code",
      "execution_count": null,
      "id": "00649672-efcb-4e84-ac4d-d8f185796db1",
      "metadata": {
        "id": "00649672-efcb-4e84-ac4d-d8f185796db1",
        "outputId": "675f0a11-0207-41f8-8b83-1795692a0524"
      },
      "outputs": [
        {
          "data": {
            "text/plain": [
              "Index(['MinTemp', 'MaxTemp', 'Rainfall', 'Evaporation', 'Sunshine',\n",
              "       'Humidity9am', 'Humidity3pm', 'Pressure9am', 'Pressure3pm', 'Cloud9am',\n",
              "       'Cloud3pm', 'Temp9am', 'Temp3pm', 'RainToday_Yes', 'RainTomorrow_Yes'],\n",
              "      dtype='object')"
            ]
          },
          "execution_count": 25,
          "metadata": {},
          "output_type": "execute_result"
        }
      ],
      "source": [
        "final_df.columns"
      ]
    },
    {
      "cell_type": "markdown",
      "id": "a4d0ed46-daa8-4b62-92f1-f1c393b3f42b",
      "metadata": {
        "id": "a4d0ed46-daa8-4b62-92f1-f1c393b3f42b"
      },
      "source": [
        "## Data Modelling"
      ]
    },
    {
      "cell_type": "code",
      "execution_count": null,
      "id": "e0e67d8a-4112-4204-8a9f-e8f59e1a8a54",
      "metadata": {
        "id": "e0e67d8a-4112-4204-8a9f-e8f59e1a8a54"
      },
      "outputs": [],
      "source": [
        "from sklearn.model_selection import train_test_split\n",
        "\n",
        "X = final_df.drop('RainTomorrow_Yes', axis  = 1)\n",
        "y = final_df['RainTomorrow_Yes']\n",
        "# Assume X and y are your feature matrix and target variable\n",
        "X_train, X_test, y_train, y_test = train_test_split(X, y, test_size=0.2, random_state=42)"
      ]
    },
    {
      "cell_type": "code",
      "execution_count": null,
      "id": "e6611364-23f4-4a8b-9362-97b5f60703ec",
      "metadata": {
        "id": "e6611364-23f4-4a8b-9362-97b5f60703ec"
      },
      "outputs": [],
      "source": [
        "from sklearn.preprocessing import MinMaxScaler\n",
        "scaler = MinMaxScaler()\n",
        "\n",
        "# Fit on training data\n",
        "scaler.fit(X_train)\n",
        "\n",
        "# Transform training and test data\n",
        "X_train_scaled = scaler.transform(X_train)\n",
        "X_test_scaled = scaler.transform(X_test)"
      ]
    },
    {
      "cell_type": "code",
      "execution_count": null,
      "id": "6c5244d7-4305-4889-8f50-36917923ae39",
      "metadata": {
        "id": "6c5244d7-4305-4889-8f50-36917923ae39",
        "outputId": "f7957c69-224c-478a-8eff-75d3807860e5"
      },
      "outputs": [
        {
          "name": "stdout",
          "output_type": "stream",
          "text": [
            "(2669, 14) (2669,) (668, 14) (668,)\n"
          ]
        }
      ],
      "source": [
        "print(X_train_scaled.shape,\n",
        "      y_train.shape,\n",
        "      X_test_scaled.shape,\n",
        "      y_test.shape)"
      ]
    },
    {
      "cell_type": "code",
      "execution_count": null,
      "id": "f7410871-0a16-44b6-b316-3bc52dd7fb0b",
      "metadata": {
        "id": "f7410871-0a16-44b6-b316-3bc52dd7fb0b",
        "outputId": "b3833bee-6d37-4676-926d-b8494183ab7a"
      },
      "outputs": [
        {
          "name": "stdout",
          "output_type": "stream",
          "text": [
            "              precision    recall  f1-score   support\n",
            "\n",
            "           0       0.85      0.82      0.84       484\n",
            "           1       0.57      0.62      0.60       184\n",
            "\n",
            "    accuracy                           0.77       668\n",
            "   macro avg       0.71      0.72      0.72       668\n",
            "weighted avg       0.77      0.77      0.77       668\n",
            "\n",
            "[[399  85]\n",
            " [ 70 114]]\n",
            "Accuracy: 0.77\n"
          ]
        }
      ],
      "source": [
        "# Decision Tree Classifier\n",
        "from sklearn.tree import DecisionTreeClassifier\n",
        "dt_classifier = DecisionTreeClassifier(random_state=42)\n",
        "dt_classifier.fit(X_train_scaled, y_train)\n",
        "dt_pred = dt_classifier.predict(X_test_scaled)\n",
        "\n",
        "\n",
        "from sklearn.metrics import accuracy_score, confusion_matrix, classification_report\n",
        "\n",
        "print(classification_report(y_test, dt_pred))\n",
        "\n",
        "\n",
        "print(confusion_matrix(y_test, dt_pred))\n",
        "\n",
        "\n",
        "print(f'Accuracy: {accuracy_score(y_test, dt_pred):.2f}')"
      ]
    },
    {
      "cell_type": "markdown",
      "id": "3a81cbf6-9c8c-4fee-a4ba-7c5e0bc48f7d",
      "metadata": {
        "id": "3a81cbf6-9c8c-4fee-a4ba-7c5e0bc48f7d"
      },
      "source": [
        "**Interpretation**\n",
        "\n",
        "The Decision Tree Classifier achieved an overall accuracy of 77%, performing well in predicting 'no rain' cases with a precision of 0.85 and recall of 0.82, but less effectively in predicting 'rain' cases with a precision of 0.57 and recall of 0.62. The F1-scores reflect this discrepancy, with 0.84 for 'no rain' and 0.60 for 'rain'. The confusion matrix shows that the classifier correctly identified 399 'no rain' instances and 114 'rain' instances, but misclassified 85 'no rain' and 70 'rain' cases. The class imbalance, with more 'no rain' instances, likely contributed to this performance disparity. Further improvements could be achieved by addressing the class imbalance and exploring more complex models or ensemble methods."
      ]
    },
    {
      "cell_type": "markdown",
      "id": "860980da-e7e2-4d52-b53f-dc6cfbf31aea",
      "metadata": {
        "id": "860980da-e7e2-4d52-b53f-dc6cfbf31aea"
      },
      "source": [
        "## Boosting"
      ]
    },
    {
      "cell_type": "code",
      "execution_count": null,
      "id": "b679317e-1fdf-4fe8-9232-908edc788adb",
      "metadata": {
        "id": "b679317e-1fdf-4fe8-9232-908edc788adb",
        "outputId": "a0f2ae76-90c2-43af-da2a-77260b3e67a5"
      },
      "outputs": [
        {
          "name": "stdout",
          "output_type": "stream",
          "text": [
            "AdaBoost:\n",
            "              precision    recall  f1-score   support\n",
            "\n",
            "           0       0.85      0.83      0.84       484\n",
            "           1       0.58      0.62      0.60       184\n",
            "\n",
            "    accuracy                           0.77       668\n",
            "   macro avg       0.72      0.73      0.72       668\n",
            "weighted avg       0.78      0.77      0.77       668\n",
            "\n",
            "[[401  83]\n",
            " [ 69 115]]\n",
            "Accuracy: 0.77\n"
          ]
        },
        {
          "name": "stderr",
          "output_type": "stream",
          "text": [
            "C:\\Users\\isama\\AppData\\Local\\Programs\\Python\\Python312\\Lib\\site-packages\\sklearn\\ensemble\\_weight_boosting.py:527: FutureWarning: The SAMME.R algorithm (the default) is deprecated and will be removed in 1.6. Use the SAMME algorithm to circumvent this warning.\n",
            "  warnings.warn(\n"
          ]
        }
      ],
      "source": [
        "from sklearn.ensemble import AdaBoostClassifier\n",
        "\n",
        "# Initialize AdaBoost Classifier with Decision Tree as base estimator\n",
        "adaboost_classifier = AdaBoostClassifier(estimator=DecisionTreeClassifier(random_state=42), n_estimators=50, random_state=42)\n",
        "\n",
        "# Train the model\n",
        "adaboost_classifier.fit(X_train_scaled, y_train)\n",
        "\n",
        "# Predict on the test data\n",
        "adaboost_pred = adaboost_classifier.predict(X_test_scaled)\n",
        "\n",
        "# Evaluate the model\n",
        "print(\"AdaBoost:\")\n",
        "print(classification_report(y_test, adaboost_pred))\n",
        "print(confusion_matrix(y_test, adaboost_pred))\n",
        "print(f'Accuracy: {accuracy_score(y_test, adaboost_pred):.2f}')\n"
      ]
    },
    {
      "cell_type": "markdown",
      "id": "49519705-f5ba-4c5d-86b4-a4d5fbf1735e",
      "metadata": {
        "id": "49519705-f5ba-4c5d-86b4-a4d5fbf1735e"
      },
      "source": [
        "**Interpretation**\n",
        "\n",
        "The AdaBoost Classifier, using a Decision Tree as the base estimator, achieved an overall accuracy of 77%, similar to the standalone Decision Tree model. It showed slightly improved performance for predicting 'no rain' cases with a precision of 0.85 and recall of 0.83, while for 'rain' cases, it had a precision of 0.58 and recall of 0.62. The F1-scores were 0.84 for 'no rain' and 0.60 for 'rain', indicating balanced but moderate performance. The confusion matrix reveals 401 true negatives, 83 false positives, 69 false negatives, and 115 true positives. Although AdaBoost provided a marginal improvement in handling 'rain' predictions, the class imbalance still poses a challenge, suggesting further refinement and perhaps additional ensemble methods could enhance performance."
      ]
    },
    {
      "cell_type": "markdown",
      "id": "f36becdf-2df8-42f7-a838-de64fb6a533a",
      "metadata": {
        "id": "f36becdf-2df8-42f7-a838-de64fb6a533a"
      },
      "source": [
        "### Random Forest(Boosting)"
      ]
    },
    {
      "cell_type": "code",
      "execution_count": null,
      "id": "98f57f8d-9484-4f0c-86b0-6d568286a468",
      "metadata": {
        "id": "98f57f8d-9484-4f0c-86b0-6d568286a468",
        "outputId": "18b1350b-8383-40fe-de20-b68c9a5437e2"
      },
      "outputs": [
        {
          "name": "stdout",
          "output_type": "stream",
          "text": [
            "Random Forest:\n",
            "              precision    recall  f1-score   support\n",
            "\n",
            "           0       0.84      0.92      0.88       484\n",
            "           1       0.73      0.55      0.63       184\n",
            "\n",
            "    accuracy                           0.82       668\n",
            "   macro avg       0.79      0.74      0.76       668\n",
            "weighted avg       0.81      0.82      0.81       668\n",
            "\n",
            "[[447  37]\n",
            " [ 82 102]]\n",
            "Accuracy: 0.82\n"
          ]
        }
      ],
      "source": [
        "from sklearn.ensemble import RandomForestClassifier\n",
        "\n",
        "# Initialize Random Forest Classifier\n",
        "rf_classifier = RandomForestClassifier(n_estimators=100, random_state=42)\n",
        "\n",
        "# Train the model\n",
        "rf_classifier.fit(X_train_scaled, y_train)\n",
        "\n",
        "# Predict on the test data\n",
        "rf_pred = rf_classifier.predict(X_test_scaled)\n",
        "\n",
        "# Evaluate the model\n",
        "print(\"Random Forest:\")\n",
        "print(classification_report(y_test, rf_pred))\n",
        "print(confusion_matrix(y_test, rf_pred))\n",
        "print(f'Accuracy: {accuracy_score(y_test, rf_pred):.2f}')"
      ]
    },
    {
      "cell_type": "markdown",
      "id": "745a6bbd-65f8-4328-b103-7d5bfd1e0cfc",
      "metadata": {
        "id": "745a6bbd-65f8-4328-b103-7d5bfd1e0cfc"
      },
      "source": [
        "**Interpretation**\n",
        "\n",
        "The Random Forest Classifier achieved an overall accuracy of 82%, outperforming both the standalone Decision Tree and AdaBoost models. It demonstrated strong performance in predicting 'no rain' cases with a precision of 0.84 and a high recall of 0.92, resulting in an F1-score of 0.88. For 'rain' cases, the precision was 0.73 and recall was 0.55, yielding an F1-score of 0.63. The confusion matrix shows 447 true negatives, 37 false positives, 82 false negatives, and 102 true positives. The Random Forest model's higher accuracy and improved handling of 'no rain' cases indicate its effectiveness as an ensemble method, suggesting it benefits from aggregating multiple decision trees. However, the performance disparity between 'no rain' and 'rain' predictions indicates that further improvements could focus on enhancing the model's ability to predict 'rain' instances accurately."
      ]
    },
    {
      "cell_type": "markdown",
      "id": "fc4c6065-c885-4100-99a5-0551b690b03e",
      "metadata": {
        "id": "fc4c6065-c885-4100-99a5-0551b690b03e"
      },
      "source": [
        "## Conclusion\n",
        "\n",
        "Comparing the three models, the Random Forest Classifier achieved the highest accuracy at 82%, outperforming both the Decision Tree and AdaBoost models, which each had an accuracy of 77%. The Random Forest model also demonstrated superior precision and recall for 'no rain' cases, with an F1-score of 0.88, indicating strong performance in correctly identifying non-rainy days. However, for predicting 'rain' cases, both Random Forest and AdaBoost showed similar F1-scores (0.63 for Random Forest and 0.60 for AdaBoost), highlighting a need for improvement in this area. The Decision Tree model, while performing adequately, lagged behind the ensemble methods, showing that combining multiple models can enhance prediction accuracy. Overall, the Random Forest model is the most effective, but there remains potential for further refinement, especially in predicting 'rain' occurrences.\n",
        "The Random Forest Classifier proved to be the most effective model for predicting rainfall in Sydney, achieving an accuracy of 82% and outperforming the Decision Tree and AdaBoost models. Future enhancements could focus on improving the prediction of rainy days through hyperparameter tuning and exploring more advanced techniques."
      ]
    },
    {
      "cell_type": "markdown",
      "id": "41987a55",
      "metadata": {
        "id": "41987a55"
      },
      "source": []
    }
  ],
  "metadata": {
    "kernelspec": {
      "display_name": "Python 3 (ipykernel)",
      "language": "python",
      "name": "python3"
    },
    "language_info": {
      "codemirror_mode": {
        "name": "ipython",
        "version": 3
      },
      "file_extension": ".py",
      "mimetype": "text/x-python",
      "name": "python",
      "nbconvert_exporter": "python",
      "pygments_lexer": "ipython3",
      "version": "3.12.4"
    },
    "colab": {
      "provenance": []
    }
  },
  "nbformat": 4,
  "nbformat_minor": 5
}